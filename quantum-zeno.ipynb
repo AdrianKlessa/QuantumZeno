{
 "cells": [
  {
   "cell_type": "markdown",
   "id": "4b3c1cc6",
   "metadata": {
    "papermill": {
     "duration": 0.005239,
     "end_time": "2024-02-06T18:51:48.713216",
     "exception": false,
     "start_time": "2024-02-06T18:51:48.707977",
     "status": "completed"
    },
    "tags": []
   },
   "source": [
    "A qiskit notebook demonstrating the [quantum Zeno effect](https://en.wikipedia.org/wiki/Quantum_Zeno_effect)\n",
    "\n",
    "A single qubit is initialized to 0, and then the following operations are performed 100 times:\n",
    "* rotation by pi/100 degrees along the Y axis\n",
    "* measurement\n",
    "\n",
    "This results in the vast majority of final measurements measuring the qubit in the same state as it started. After each measurement the state of the qubit is \"changed\" to 1 with ~0.0001 probability, otherwise \"moved back\" to 0, losing superposition properties.\n",
    "\n",
    "For comparison, a single qubit is later rotated by pi/100 degrees 100 times (without intermediate measurements), resulting in a single pi rotation, ending in the state 1 with 100% probability.\n",
    "\n",
    "Finally, we see that the effect is amplified by more frequent measurements - reducing the probability of the state of the quantum system changing during the same total period of time."
   ]
  },
  {
   "cell_type": "code",
   "execution_count": 1,
   "id": "f70bdbeb",
   "metadata": {
    "_cell_guid": "b1076dfc-b9ad-4769-8c92-a6c4dae69d19",
    "_uuid": "8f2839f25d086af736a60e9eeb907d3b93b6e0e5",
    "execution": {
     "iopub.execute_input": "2024-02-06T18:51:48.725090Z",
     "iopub.status.busy": "2024-02-06T18:51:48.724496Z",
     "iopub.status.idle": "2024-02-06T18:51:48.736639Z",
     "shell.execute_reply": "2024-02-06T18:51:48.735625Z"
    },
    "papermill": {
     "duration": 0.020794,
     "end_time": "2024-02-06T18:51:48.738945",
     "exception": false,
     "start_time": "2024-02-06T18:51:48.718151",
     "status": "completed"
    },
    "tags": []
   },
   "outputs": [],
   "source": [
    "import numpy as np"
   ]
  },
  {
   "cell_type": "code",
   "execution_count": 2,
   "id": "e5250c02",
   "metadata": {
    "execution": {
     "iopub.execute_input": "2024-02-06T18:51:48.749610Z",
     "iopub.status.busy": "2024-02-06T18:51:48.749237Z",
     "iopub.status.idle": "2024-02-06T18:56:07.187651Z",
     "shell.execute_reply": "2024-02-06T18:56:07.186540Z"
    },
    "papermill": {
     "duration": 258.44713,
     "end_time": "2024-02-06T18:56:07.190720",
     "exception": false,
     "start_time": "2024-02-06T18:51:48.743590",
     "status": "completed"
    },
    "tags": []
   },
   "outputs": [
    {
     "name": "stdout",
     "output_type": "stream",
     "text": [
      "Collecting qiskit\r\n",
      "  Obtaining dependency information for qiskit from https://files.pythonhosted.org/packages/2b/fd/fce71c2d409b63b9de59e1a840573ace3e182b4a63242bb4962dc67ac77b/qiskit-0.46.0-py3-none-any.whl.metadata\r\n",
      "  Downloading qiskit-0.46.0-py3-none-any.whl.metadata (12 kB)\r\n",
      "Collecting qiskit-terra==0.46.0 (from qiskit)\r\n",
      "  Obtaining dependency information for qiskit-terra==0.46.0 from https://files.pythonhosted.org/packages/62/18/7e6bd149670f43e633e7a114b4a8ce64566d568953144e1215d278197066/qiskit_terra-0.46.0-cp38-abi3-manylinux_2_17_x86_64.manylinux2014_x86_64.whl.metadata\r\n",
      "  Downloading qiskit_terra-0.46.0-cp38-abi3-manylinux_2_17_x86_64.manylinux2014_x86_64.whl.metadata (12 kB)\r\n",
      "Collecting rustworkx>=0.13.0 (from qiskit-terra==0.46.0->qiskit)\r\n",
      "  Obtaining dependency information for rustworkx>=0.13.0 from https://files.pythonhosted.org/packages/16/05/bcbfcb9c87c9b2c33fcb2d715f4f8de21ea1b870b148f98ba5c2c1cfc79f/rustworkx-0.14.0-cp310-cp310-manylinux_2_17_x86_64.manylinux2014_x86_64.whl.metadata\r\n",
      "  Downloading rustworkx-0.14.0-cp310-cp310-manylinux_2_17_x86_64.manylinux2014_x86_64.whl.metadata (10.0 kB)\r\n",
      "Requirement already satisfied: numpy<2,>=1.17 in /opt/conda/lib/python3.10/site-packages (from qiskit-terra==0.46.0->qiskit) (1.24.3)\r\n",
      "Collecting ply>=3.10 (from qiskit-terra==0.46.0->qiskit)\r\n",
      "  Downloading ply-3.11-py2.py3-none-any.whl (49 kB)\r\n",
      "\u001b[2K     \u001b[90m━━━━━━━━━━━━━━━━━━━━━━━━━━━━━━━━━━━━━━━━\u001b[0m \u001b[32m49.6/49.6 kB\u001b[0m \u001b[31m2.3 MB/s\u001b[0m eta \u001b[36m0:00:00\u001b[0m\r\n",
      "\u001b[?25hRequirement already satisfied: psutil>=5 in /opt/conda/lib/python3.10/site-packages (from qiskit-terra==0.46.0->qiskit) (5.9.3)\r\n",
      "Requirement already satisfied: scipy>=1.5 in /opt/conda/lib/python3.10/site-packages (from qiskit-terra==0.46.0->qiskit) (1.11.4)\r\n",
      "Requirement already satisfied: sympy>=1.3 in /opt/conda/lib/python3.10/site-packages (from qiskit-terra==0.46.0->qiskit) (1.12)\r\n",
      "Requirement already satisfied: dill>=0.3 in /opt/conda/lib/python3.10/site-packages (from qiskit-terra==0.46.0->qiskit) (0.3.7)\r\n",
      "Requirement already satisfied: python-dateutil>=2.8.0 in /opt/conda/lib/python3.10/site-packages (from qiskit-terra==0.46.0->qiskit) (2.8.2)\r\n",
      "Collecting stevedore>=3.0.0 (from qiskit-terra==0.46.0->qiskit)\r\n",
      "  Obtaining dependency information for stevedore>=3.0.0 from https://files.pythonhosted.org/packages/4b/68/e739fd061b0aba464bef8e8be48428b2aabbfb3f2f8f2f8ca257363ee6b2/stevedore-5.1.0-py3-none-any.whl.metadata\r\n",
      "  Downloading stevedore-5.1.0-py3-none-any.whl.metadata (2.2 kB)\r\n",
      "Collecting symengine>=0.11 (from qiskit-terra==0.46.0->qiskit)\r\n",
      "  Obtaining dependency information for symengine>=0.11 from https://files.pythonhosted.org/packages/a6/69/97a99ae1835810e0f3f4f471cdfcb6d886be93e4ee5688397deacab955bc/symengine-0.11.0-cp310-cp310-manylinux_2_12_x86_64.manylinux2010_x86_64.whl.metadata\r\n",
      "  Downloading symengine-0.11.0-cp310-cp310-manylinux_2_12_x86_64.manylinux2010_x86_64.whl.metadata (1.2 kB)\r\n",
      "Requirement already satisfied: typing-extensions in /opt/conda/lib/python3.10/site-packages (from qiskit-terra==0.46.0->qiskit) (4.5.0)\r\n",
      "Requirement already satisfied: six>=1.5 in /opt/conda/lib/python3.10/site-packages (from python-dateutil>=2.8.0->qiskit-terra==0.46.0->qiskit) (1.16.0)\r\n",
      "Collecting pbr!=2.1.0,>=2.0.0 (from stevedore>=3.0.0->qiskit-terra==0.46.0->qiskit)\r\n",
      "  Obtaining dependency information for pbr!=2.1.0,>=2.0.0 from https://files.pythonhosted.org/packages/64/dd/171c9fb653591cf265bcc89c436eec75c9bde3dec921cc236fa71e5698df/pbr-6.0.0-py2.py3-none-any.whl.metadata\r\n",
      "  Downloading pbr-6.0.0-py2.py3-none-any.whl.metadata (1.3 kB)\r\n",
      "Requirement already satisfied: mpmath>=0.19 in /opt/conda/lib/python3.10/site-packages (from sympy>=1.3->qiskit-terra==0.46.0->qiskit) (1.3.0)\r\n",
      "Downloading qiskit-0.46.0-py3-none-any.whl (9.6 kB)\r\n",
      "Downloading qiskit_terra-0.46.0-cp38-abi3-manylinux_2_17_x86_64.manylinux2014_x86_64.whl (6.3 MB)\r\n",
      "\u001b[2K   \u001b[90m━━━━━━━━━━━━━━━━━━━━━━━━━━━━━━━━━━━━━━━━\u001b[0m \u001b[32m6.3/6.3 MB\u001b[0m \u001b[31m48.1 MB/s\u001b[0m eta \u001b[36m0:00:00\u001b[0m\r\n",
      "\u001b[?25hDownloading rustworkx-0.14.0-cp310-cp310-manylinux_2_17_x86_64.manylinux2014_x86_64.whl (2.2 MB)\r\n",
      "\u001b[2K   \u001b[90m━━━━━━━━━━━━━━━━━━━━━━━━━━━━━━━━━━━━━━━━\u001b[0m \u001b[32m2.2/2.2 MB\u001b[0m \u001b[31m68.1 MB/s\u001b[0m eta \u001b[36m0:00:00\u001b[0m\r\n",
      "\u001b[?25hDownloading stevedore-5.1.0-py3-none-any.whl (49 kB)\r\n",
      "\u001b[2K   \u001b[90m━━━━━━━━━━━━━━━━━━━━━━━━━━━━━━━━━━━━━━━━\u001b[0m \u001b[32m49.6/49.6 kB\u001b[0m \u001b[31m5.1 MB/s\u001b[0m eta \u001b[36m0:00:00\u001b[0m\r\n",
      "\u001b[?25hDownloading symengine-0.11.0-cp310-cp310-manylinux_2_12_x86_64.manylinux2010_x86_64.whl (39.4 MB)\r\n",
      "\u001b[2K   \u001b[90m━━━━━━━━━━━━━━━━━━━━━━━━━━━━━━━━━━━━━━━━\u001b[0m \u001b[32m39.4/39.4 MB\u001b[0m \u001b[31m27.4 MB/s\u001b[0m eta \u001b[36m0:00:00\u001b[0m\r\n",
      "\u001b[?25hDownloading pbr-6.0.0-py2.py3-none-any.whl (107 kB)\r\n",
      "\u001b[2K   \u001b[90m━━━━━━━━━━━━━━━━━━━━━━━━━━━━━━━━━━━━━━━━\u001b[0m \u001b[32m107.5/107.5 kB\u001b[0m \u001b[31m10.5 MB/s\u001b[0m eta \u001b[36m0:00:00\u001b[0m\r\n",
      "\u001b[?25hInstalling collected packages: ply, symengine, rustworkx, pbr, stevedore, qiskit-terra, qiskit\r\n",
      "Successfully installed pbr-6.0.0 ply-3.11 qiskit-0.46.0 qiskit-terra-0.46.0 rustworkx-0.14.0 stevedore-5.1.0 symengine-0.11.0\r\n",
      "Collecting qiskit-aer\r\n",
      "  Downloading qiskit-aer-0.13.3.tar.gz (6.5 MB)\r\n",
      "\u001b[2K     \u001b[90m━━━━━━━━━━━━━━━━━━━━━━━━━━━━━━━━━━━━━━━━\u001b[0m \u001b[32m6.5/6.5 MB\u001b[0m \u001b[31m39.3 MB/s\u001b[0m eta \u001b[36m0:00:00\u001b[0m\r\n",
      "\u001b[?25h  Installing build dependencies ... \u001b[?25l-\b \b\\\b \b|\b \b/\b \b-\b \b\\\b \b|\b \b/\b \b-\b \b\\\b \b|\b \b/\b \b-\b \b\\\b \b|\b \b/\b \b-\b \b\\\b \b|\b \b/\b \b-\b \b\\\b \b|\b \b/\b \b-\b \b\\\b \b|\b \b/\b \b-\b \b\\\b \b|\b \b/\b \b-\b \b\\\b \b|\b \b/\b \b-\b \b\\\b \b|\b \b/\b \b-\b \b\\\b \bdone\r\n",
      "\u001b[?25h  Getting requirements to build wheel ... \u001b[?25l-\b \bdone\r\n",
      "\u001b[?25h  Preparing metadata (pyproject.toml) ... \u001b[?25l-\b \bdone\r\n",
      "\u001b[?25hRequirement already satisfied: qiskit>=0.45.0 in /opt/conda/lib/python3.10/site-packages (from qiskit-aer) (0.46.0)\r\n",
      "Requirement already satisfied: numpy>=1.16.3 in /opt/conda/lib/python3.10/site-packages (from qiskit-aer) (1.24.3)\r\n",
      "Requirement already satisfied: scipy>=1.0 in /opt/conda/lib/python3.10/site-packages (from qiskit-aer) (1.11.4)\r\n",
      "Requirement already satisfied: psutil>=5 in /opt/conda/lib/python3.10/site-packages (from qiskit-aer) (5.9.3)\r\n",
      "Requirement already satisfied: qiskit-terra==0.46.0 in /opt/conda/lib/python3.10/site-packages (from qiskit>=0.45.0->qiskit-aer) (0.46.0)\r\n",
      "Requirement already satisfied: rustworkx>=0.13.0 in /opt/conda/lib/python3.10/site-packages (from qiskit-terra==0.46.0->qiskit>=0.45.0->qiskit-aer) (0.14.0)\r\n",
      "Requirement already satisfied: ply>=3.10 in /opt/conda/lib/python3.10/site-packages (from qiskit-terra==0.46.0->qiskit>=0.45.0->qiskit-aer) (3.11)\r\n",
      "Requirement already satisfied: sympy>=1.3 in /opt/conda/lib/python3.10/site-packages (from qiskit-terra==0.46.0->qiskit>=0.45.0->qiskit-aer) (1.12)\r\n",
      "Requirement already satisfied: dill>=0.3 in /opt/conda/lib/python3.10/site-packages (from qiskit-terra==0.46.0->qiskit>=0.45.0->qiskit-aer) (0.3.7)\r\n",
      "Requirement already satisfied: python-dateutil>=2.8.0 in /opt/conda/lib/python3.10/site-packages (from qiskit-terra==0.46.0->qiskit>=0.45.0->qiskit-aer) (2.8.2)\r\n",
      "Requirement already satisfied: stevedore>=3.0.0 in /opt/conda/lib/python3.10/site-packages (from qiskit-terra==0.46.0->qiskit>=0.45.0->qiskit-aer) (5.1.0)\r\n",
      "Requirement already satisfied: symengine>=0.11 in /opt/conda/lib/python3.10/site-packages (from qiskit-terra==0.46.0->qiskit>=0.45.0->qiskit-aer) (0.11.0)\r\n",
      "Requirement already satisfied: typing-extensions in /opt/conda/lib/python3.10/site-packages (from qiskit-terra==0.46.0->qiskit>=0.45.0->qiskit-aer) (4.5.0)\r\n",
      "Requirement already satisfied: six>=1.5 in /opt/conda/lib/python3.10/site-packages (from python-dateutil>=2.8.0->qiskit-terra==0.46.0->qiskit>=0.45.0->qiskit-aer) (1.16.0)\r\n",
      "Requirement already satisfied: pbr!=2.1.0,>=2.0.0 in /opt/conda/lib/python3.10/site-packages (from stevedore>=3.0.0->qiskit-terra==0.46.0->qiskit>=0.45.0->qiskit-aer) (6.0.0)\r\n",
      "Requirement already satisfied: mpmath>=0.19 in /opt/conda/lib/python3.10/site-packages (from sympy>=1.3->qiskit-terra==0.46.0->qiskit>=0.45.0->qiskit-aer) (1.3.0)\r\n",
      "Building wheels for collected packages: qiskit-aer\r\n",
      "  Building wheel for qiskit-aer (pyproject.toml) ... \u001b[?25l-\b \b\\\b \b|\b \b/\b \b-\b \b\\\b \b|\b \b/\b \b-\b \b\\\b \b|\b \b/\b \b-\b \b\\\b \b|\b \b/\b \b-\b \b\\\b \b|\b \b/\b \b-\b \b\\\b \b|\b \b/\b \b-\b \b\\\b \b|\b \b/\b \b-\b \b\\\b \b|\b \b/\b \b-\b \b\\\b \b|\b \b/\b \bdone\r\n",
      "\u001b[?25h  Created wheel for qiskit-aer: filename=qiskit_aer-0.13.3-cp310-cp310-linux_x86_64.whl size=1942428 sha256=17033861e6c4574d5c6e424b40de214c12379852852ba48c5045db9c58f1179e\r\n",
      "  Stored in directory: /root/.cache/pip/wheels/e1/b6/62/406bc591afda8d2ac5dbe35f8ccd8e9a065c91b99f2e5f0727\r\n",
      "Successfully built qiskit-aer\r\n",
      "Installing collected packages: qiskit-aer\r\n",
      "Successfully installed qiskit-aer-0.13.3\r\n"
     ]
    }
   ],
   "source": [
    "#Install Qiskit and aer\n",
    "!pip install qiskit\n",
    "!pip install qiskit-aer"
   ]
  },
  {
   "cell_type": "code",
   "execution_count": 3,
   "id": "96f2db76",
   "metadata": {
    "execution": {
     "iopub.execute_input": "2024-02-06T18:56:07.225371Z",
     "iopub.status.busy": "2024-02-06T18:56:07.224959Z",
     "iopub.status.idle": "2024-02-06T18:56:08.252160Z",
     "shell.execute_reply": "2024-02-06T18:56:08.251093Z"
    },
    "papermill": {
     "duration": 1.04767,
     "end_time": "2024-02-06T18:56:08.254886",
     "exception": false,
     "start_time": "2024-02-06T18:56:07.207216",
     "status": "completed"
    },
    "tags": []
   },
   "outputs": [],
   "source": [
    "#Imports\n",
    "import qiskit\n",
    "from qiskit import QuantumCircuit, QuantumRegister, ClassicalRegister\n",
    "from qiskit import Aer, execute\n",
    "from qiskit.tools.visualization import plot_histogram"
   ]
  },
  {
   "cell_type": "code",
   "execution_count": 4,
   "id": "d6c26909",
   "metadata": {
    "execution": {
     "iopub.execute_input": "2024-02-06T18:56:08.289760Z",
     "iopub.status.busy": "2024-02-06T18:56:08.289245Z",
     "iopub.status.idle": "2024-02-06T18:56:08.301774Z",
     "shell.execute_reply": "2024-02-06T18:56:08.301009Z"
    },
    "papermill": {
     "duration": 0.032504,
     "end_time": "2024-02-06T18:56:08.303980",
     "exception": false,
     "start_time": "2024-02-06T18:56:08.271476",
     "status": "completed"
    },
    "tags": []
   },
   "outputs": [],
   "source": [
    "# Construct quantum circuit with many measurements\n",
    "# We repeat 1/100th of an 180 degree rotation followed by a measurement 100 times\n",
    "# Each measurement collapses the qubit back from a superposition to a basis state resulting in the Quantum Zeno effect\n",
    "circ = QuantumCircuit(1,1)\n",
    "for x in range(100):\n",
    "    circ.ry(np.pi/100, 0)\n",
    "    circ.measure(0,0)"
   ]
  },
  {
   "cell_type": "code",
   "execution_count": 5,
   "id": "df37c879",
   "metadata": {
    "execution": {
     "iopub.execute_input": "2024-02-06T18:56:08.339384Z",
     "iopub.status.busy": "2024-02-06T18:56:08.338640Z",
     "iopub.status.idle": "2024-02-06T18:56:08.395103Z",
     "shell.execute_reply": "2024-02-06T18:56:08.394029Z"
    },
    "papermill": {
     "duration": 0.077909,
     "end_time": "2024-02-06T18:56:08.398287",
     "exception": false,
     "start_time": "2024-02-06T18:56:08.320378",
     "status": "completed"
    },
    "tags": []
   },
   "outputs": [
    {
     "data": {
      "text/html": [
       "<pre style=\"word-wrap: normal;white-space: pre;background: #fff0;line-height: 1.1;font-family: &quot;Courier New&quot;,Courier,monospace\">     ┌───────────┐┌─┐┌───────────┐┌─┐┌───────────┐┌─┐┌───────────┐┌─┐»\n",
       "  q: ┤ Ry(π/100) ├┤M├┤ Ry(π/100) ├┤M├┤ Ry(π/100) ├┤M├┤ Ry(π/100) ├┤M├»\n",
       "     └───────────┘└╥┘└───────────┘└╥┘└───────────┘└╥┘└───────────┘└╥┘»\n",
       "c: 1/══════════════╩═══════════════╩═══════════════╩═══════════════╩═»\n",
       "                   0               0               0               0 »\n",
       "«     ┌───────────┐┌─┐┌───────────┐┌─┐┌───────────┐┌─┐┌───────────┐┌─┐»\n",
       "«  q: ┤ Ry(π/100) ├┤M├┤ Ry(π/100) ├┤M├┤ Ry(π/100) ├┤M├┤ Ry(π/100) ├┤M├»\n",
       "«     └───────────┘└╥┘└───────────┘└╥┘└───────────┘└╥┘└───────────┘└╥┘»\n",
       "«c: 1/══════════════╩═══════════════╩═══════════════╩═══════════════╩═»\n",
       "«                   0               0               0               0 »\n",
       "«     ┌───────────┐┌─┐┌───────────┐┌─┐┌───────────┐┌─┐┌───────────┐┌─┐»\n",
       "«  q: ┤ Ry(π/100) ├┤M├┤ Ry(π/100) ├┤M├┤ Ry(π/100) ├┤M├┤ Ry(π/100) ├┤M├»\n",
       "«     └───────────┘└╥┘└───────────┘└╥┘└───────────┘└╥┘└───────────┘└╥┘»\n",
       "«c: 1/══════════════╩═══════════════╩═══════════════╩═══════════════╩═»\n",
       "«                   0               0               0               0 »\n",
       "«     ┌───────────┐┌─┐┌───────────┐┌─┐┌───────────┐┌─┐┌───────────┐┌─┐»\n",
       "«  q: ┤ Ry(π/100) ├┤M├┤ Ry(π/100) ├┤M├┤ Ry(π/100) ├┤M├┤ Ry(π/100) ├┤M├»\n",
       "«     └───────────┘└╥┘└───────────┘└╥┘└───────────┘└╥┘└───────────┘└╥┘»\n",
       "«c: 1/══════════════╩═══════════════╩═══════════════╩═══════════════╩═»\n",
       "«                   0               0               0               0 »\n",
       "«     ┌───────────┐┌─┐┌───────────┐┌─┐┌───────────┐┌─┐┌───────────┐┌─┐»\n",
       "«  q: ┤ Ry(π/100) ├┤M├┤ Ry(π/100) ├┤M├┤ Ry(π/100) ├┤M├┤ Ry(π/100) ├┤M├»\n",
       "«     └───────────┘└╥┘└───────────┘└╥┘└───────────┘└╥┘└───────────┘└╥┘»\n",
       "«c: 1/══════════════╩═══════════════╩═══════════════╩═══════════════╩═»\n",
       "«                   0               0               0               0 »\n",
       "«     ┌───────────┐┌─┐┌───────────┐┌─┐┌───────────┐┌─┐┌───────────┐┌─┐»\n",
       "«  q: ┤ Ry(π/100) ├┤M├┤ Ry(π/100) ├┤M├┤ Ry(π/100) ├┤M├┤ Ry(π/100) ├┤M├»\n",
       "«     └───────────┘└╥┘└───────────┘└╥┘└───────────┘└╥┘└───────────┘└╥┘»\n",
       "«c: 1/══════════════╩═══════════════╩═══════════════╩═══════════════╩═»\n",
       "«                   0               0               0               0 »\n",
       "«     ┌───────────┐┌─┐┌───────────┐┌─┐┌───────────┐┌─┐┌───────────┐┌─┐»\n",
       "«  q: ┤ Ry(π/100) ├┤M├┤ Ry(π/100) ├┤M├┤ Ry(π/100) ├┤M├┤ Ry(π/100) ├┤M├»\n",
       "«     └───────────┘└╥┘└───────────┘└╥┘└───────────┘└╥┘└───────────┘└╥┘»\n",
       "«c: 1/══════════════╩═══════════════╩═══════════════╩═══════════════╩═»\n",
       "«                   0               0               0               0 »\n",
       "«     ┌───────────┐┌─┐┌───────────┐┌─┐┌───────────┐┌─┐┌───────────┐┌─┐»\n",
       "«  q: ┤ Ry(π/100) ├┤M├┤ Ry(π/100) ├┤M├┤ Ry(π/100) ├┤M├┤ Ry(π/100) ├┤M├»\n",
       "«     └───────────┘└╥┘└───────────┘└╥┘└───────────┘└╥┘└───────────┘└╥┘»\n",
       "«c: 1/══════════════╩═══════════════╩═══════════════╩═══════════════╩═»\n",
       "«                   0               0               0               0 »\n",
       "«     ┌───────────┐┌─┐┌───────────┐┌─┐┌───────────┐┌─┐┌───────────┐┌─┐»\n",
       "«  q: ┤ Ry(π/100) ├┤M├┤ Ry(π/100) ├┤M├┤ Ry(π/100) ├┤M├┤ Ry(π/100) ├┤M├»\n",
       "«     └───────────┘└╥┘└───────────┘└╥┘└───────────┘└╥┘└───────────┘└╥┘»\n",
       "«c: 1/══════════════╩═══════════════╩═══════════════╩═══════════════╩═»\n",
       "«                   0               0               0               0 »\n",
       "«     ┌───────────┐┌─┐┌───────────┐┌─┐┌───────────┐┌─┐┌───────────┐┌─┐»\n",
       "«  q: ┤ Ry(π/100) ├┤M├┤ Ry(π/100) ├┤M├┤ Ry(π/100) ├┤M├┤ Ry(π/100) ├┤M├»\n",
       "«     └───────────┘└╥┘└───────────┘└╥┘└───────────┘└╥┘└───────────┘└╥┘»\n",
       "«c: 1/══════════════╩═══════════════╩═══════════════╩═══════════════╩═»\n",
       "«                   0               0               0               0 »\n",
       "«     ┌───────────┐┌─┐┌───────────┐┌─┐┌───────────┐┌─┐┌───────────┐┌─┐»\n",
       "«  q: ┤ Ry(π/100) ├┤M├┤ Ry(π/100) ├┤M├┤ Ry(π/100) ├┤M├┤ Ry(π/100) ├┤M├»\n",
       "«     └───────────┘└╥┘└───────────┘└╥┘└───────────┘└╥┘└───────────┘└╥┘»\n",
       "«c: 1/══════════════╩═══════════════╩═══════════════╩═══════════════╩═»\n",
       "«                   0               0               0               0 »\n",
       "«     ┌───────────┐┌─┐┌───────────┐┌─┐┌───────────┐┌─┐┌───────────┐┌─┐»\n",
       "«  q: ┤ Ry(π/100) ├┤M├┤ Ry(π/100) ├┤M├┤ Ry(π/100) ├┤M├┤ Ry(π/100) ├┤M├»\n",
       "«     └───────────┘└╥┘└───────────┘└╥┘└───────────┘└╥┘└───────────┘└╥┘»\n",
       "«c: 1/══════════════╩═══════════════╩═══════════════╩═══════════════╩═»\n",
       "«                   0               0               0               0 »\n",
       "«     ┌───────────┐┌─┐┌───────────┐┌─┐┌───────────┐┌─┐┌───────────┐┌─┐»\n",
       "«  q: ┤ Ry(π/100) ├┤M├┤ Ry(π/100) ├┤M├┤ Ry(π/100) ├┤M├┤ Ry(π/100) ├┤M├»\n",
       "«     └───────────┘└╥┘└───────────┘└╥┘└───────────┘└╥┘└───────────┘└╥┘»\n",
       "«c: 1/══════════════╩═══════════════╩═══════════════╩═══════════════╩═»\n",
       "«                   0               0               0               0 »\n",
       "«     ┌───────────┐┌─┐┌───────────┐┌─┐┌───────────┐┌─┐┌───────────┐┌─┐»\n",
       "«  q: ┤ Ry(π/100) ├┤M├┤ Ry(π/100) ├┤M├┤ Ry(π/100) ├┤M├┤ Ry(π/100) ├┤M├»\n",
       "«     └───────────┘└╥┘└───────────┘└╥┘└───────────┘└╥┘└───────────┘└╥┘»\n",
       "«c: 1/══════════════╩═══════════════╩═══════════════╩═══════════════╩═»\n",
       "«                   0               0               0               0 »\n",
       "«     ┌───────────┐┌─┐┌───────────┐┌─┐┌───────────┐┌─┐┌───────────┐┌─┐»\n",
       "«  q: ┤ Ry(π/100) ├┤M├┤ Ry(π/100) ├┤M├┤ Ry(π/100) ├┤M├┤ Ry(π/100) ├┤M├»\n",
       "«     └───────────┘└╥┘└───────────┘└╥┘└───────────┘└╥┘└───────────┘└╥┘»\n",
       "«c: 1/══════════════╩═══════════════╩═══════════════╩═══════════════╩═»\n",
       "«                   0               0               0               0 »\n",
       "«     ┌───────────┐┌─┐┌───────────┐┌─┐┌───────────┐┌─┐┌───────────┐┌─┐»\n",
       "«  q: ┤ Ry(π/100) ├┤M├┤ Ry(π/100) ├┤M├┤ Ry(π/100) ├┤M├┤ Ry(π/100) ├┤M├»\n",
       "«     └───────────┘└╥┘└───────────┘└╥┘└───────────┘└╥┘└───────────┘└╥┘»\n",
       "«c: 1/══════════════╩═══════════════╩═══════════════╩═══════════════╩═»\n",
       "«                   0               0               0               0 »\n",
       "«     ┌───────────┐┌─┐┌───────────┐┌─┐┌───────────┐┌─┐┌───────────┐┌─┐»\n",
       "«  q: ┤ Ry(π/100) ├┤M├┤ Ry(π/100) ├┤M├┤ Ry(π/100) ├┤M├┤ Ry(π/100) ├┤M├»\n",
       "«     └───────────┘└╥┘└───────────┘└╥┘└───────────┘└╥┘└───────────┘└╥┘»\n",
       "«c: 1/══════════════╩═══════════════╩═══════════════╩═══════════════╩═»\n",
       "«                   0               0               0               0 »\n",
       "«     ┌───────────┐┌─┐┌───────────┐┌─┐┌───────────┐┌─┐┌───────────┐┌─┐»\n",
       "«  q: ┤ Ry(π/100) ├┤M├┤ Ry(π/100) ├┤M├┤ Ry(π/100) ├┤M├┤ Ry(π/100) ├┤M├»\n",
       "«     └───────────┘└╥┘└───────────┘└╥┘└───────────┘└╥┘└───────────┘└╥┘»\n",
       "«c: 1/══════════════╩═══════════════╩═══════════════╩═══════════════╩═»\n",
       "«                   0               0               0               0 »\n",
       "«     ┌───────────┐┌─┐┌───────────┐┌─┐┌───────────┐┌─┐┌───────────┐┌─┐»\n",
       "«  q: ┤ Ry(π/100) ├┤M├┤ Ry(π/100) ├┤M├┤ Ry(π/100) ├┤M├┤ Ry(π/100) ├┤M├»\n",
       "«     └───────────┘└╥┘└───────────┘└╥┘└───────────┘└╥┘└───────────┘└╥┘»\n",
       "«c: 1/══════════════╩═══════════════╩═══════════════╩═══════════════╩═»\n",
       "«                   0               0               0               0 »\n",
       "«     ┌───────────┐┌─┐┌───────────┐┌─┐┌───────────┐┌─┐┌───────────┐┌─┐»\n",
       "«  q: ┤ Ry(π/100) ├┤M├┤ Ry(π/100) ├┤M├┤ Ry(π/100) ├┤M├┤ Ry(π/100) ├┤M├»\n",
       "«     └───────────┘└╥┘└───────────┘└╥┘└───────────┘└╥┘└───────────┘└╥┘»\n",
       "«c: 1/══════════════╩═══════════════╩═══════════════╩═══════════════╩═»\n",
       "«                   0               0               0               0 »\n",
       "«     ┌───────────┐┌─┐┌───────────┐┌─┐┌───────────┐┌─┐┌───────────┐┌─┐»\n",
       "«  q: ┤ Ry(π/100) ├┤M├┤ Ry(π/100) ├┤M├┤ Ry(π/100) ├┤M├┤ Ry(π/100) ├┤M├»\n",
       "«     └───────────┘└╥┘└───────────┘└╥┘└───────────┘└╥┘└───────────┘└╥┘»\n",
       "«c: 1/══════════════╩═══════════════╩═══════════════╩═══════════════╩═»\n",
       "«                   0               0               0               0 »\n",
       "«     ┌───────────┐┌─┐┌───────────┐┌─┐┌───────────┐┌─┐┌───────────┐┌─┐»\n",
       "«  q: ┤ Ry(π/100) ├┤M├┤ Ry(π/100) ├┤M├┤ Ry(π/100) ├┤M├┤ Ry(π/100) ├┤M├»\n",
       "«     └───────────┘└╥┘└───────────┘└╥┘└───────────┘└╥┘└───────────┘└╥┘»\n",
       "«c: 1/══════════════╩═══════════════╩═══════════════╩═══════════════╩═»\n",
       "«                   0               0               0               0 »\n",
       "«     ┌───────────┐┌─┐┌───────────┐┌─┐┌───────────┐┌─┐┌───────────┐┌─┐»\n",
       "«  q: ┤ Ry(π/100) ├┤M├┤ Ry(π/100) ├┤M├┤ Ry(π/100) ├┤M├┤ Ry(π/100) ├┤M├»\n",
       "«     └───────────┘└╥┘└───────────┘└╥┘└───────────┘└╥┘└───────────┘└╥┘»\n",
       "«c: 1/══════════════╩═══════════════╩═══════════════╩═══════════════╩═»\n",
       "«                   0               0               0               0 »\n",
       "«     ┌───────────┐┌─┐┌───────────┐┌─┐┌───────────┐┌─┐┌───────────┐┌─┐»\n",
       "«  q: ┤ Ry(π/100) ├┤M├┤ Ry(π/100) ├┤M├┤ Ry(π/100) ├┤M├┤ Ry(π/100) ├┤M├»\n",
       "«     └───────────┘└╥┘└───────────┘└╥┘└───────────┘└╥┘└───────────┘└╥┘»\n",
       "«c: 1/══════════════╩═══════════════╩═══════════════╩═══════════════╩═»\n",
       "«                   0               0               0               0 »\n",
       "«     ┌───────────┐┌─┐┌───────────┐┌─┐┌───────────┐┌─┐┌───────────┐┌─┐\n",
       "«  q: ┤ Ry(π/100) ├┤M├┤ Ry(π/100) ├┤M├┤ Ry(π/100) ├┤M├┤ Ry(π/100) ├┤M├\n",
       "«     └───────────┘└╥┘└───────────┘└╥┘└───────────┘└╥┘└───────────┘└╥┘\n",
       "«c: 1/══════════════╩═══════════════╩═══════════════╩═══════════════╩═\n",
       "«                   0               0               0               0 </pre>"
      ],
      "text/plain": [
       "     ┌───────────┐┌─┐┌───────────┐┌─┐┌───────────┐┌─┐┌───────────┐┌─┐»\n",
       "  q: ┤ Ry(π/100) ├┤M├┤ Ry(π/100) ├┤M├┤ Ry(π/100) ├┤M├┤ Ry(π/100) ├┤M├»\n",
       "     └───────────┘└╥┘└───────────┘└╥┘└───────────┘└╥┘└───────────┘└╥┘»\n",
       "c: 1/══════════════╩═══════════════╩═══════════════╩═══════════════╩═»\n",
       "                   0               0               0               0 »\n",
       "«     ┌───────────┐┌─┐┌───────────┐┌─┐┌───────────┐┌─┐┌───────────┐┌─┐»\n",
       "«  q: ┤ Ry(π/100) ├┤M├┤ Ry(π/100) ├┤M├┤ Ry(π/100) ├┤M├┤ Ry(π/100) ├┤M├»\n",
       "«     └───────────┘└╥┘└───────────┘└╥┘└───────────┘└╥┘└───────────┘└╥┘»\n",
       "«c: 1/══════════════╩═══════════════╩═══════════════╩═══════════════╩═»\n",
       "«                   0               0               0               0 »\n",
       "«     ┌───────────┐┌─┐┌───────────┐┌─┐┌───────────┐┌─┐┌───────────┐┌─┐»\n",
       "«  q: ┤ Ry(π/100) ├┤M├┤ Ry(π/100) ├┤M├┤ Ry(π/100) ├┤M├┤ Ry(π/100) ├┤M├»\n",
       "«     └───────────┘└╥┘└───────────┘└╥┘└───────────┘└╥┘└───────────┘└╥┘»\n",
       "«c: 1/══════════════╩═══════════════╩═══════════════╩═══════════════╩═»\n",
       "«                   0               0               0               0 »\n",
       "«     ┌───────────┐┌─┐┌───────────┐┌─┐┌───────────┐┌─┐┌───────────┐┌─┐»\n",
       "«  q: ┤ Ry(π/100) ├┤M├┤ Ry(π/100) ├┤M├┤ Ry(π/100) ├┤M├┤ Ry(π/100) ├┤M├»\n",
       "«     └───────────┘└╥┘└───────────┘└╥┘└───────────┘└╥┘└───────────┘└╥┘»\n",
       "«c: 1/══════════════╩═══════════════╩═══════════════╩═══════════════╩═»\n",
       "«                   0               0               0               0 »\n",
       "«     ┌───────────┐┌─┐┌───────────┐┌─┐┌───────────┐┌─┐┌───────────┐┌─┐»\n",
       "«  q: ┤ Ry(π/100) ├┤M├┤ Ry(π/100) ├┤M├┤ Ry(π/100) ├┤M├┤ Ry(π/100) ├┤M├»\n",
       "«     └───────────┘└╥┘└───────────┘└╥┘└───────────┘└╥┘└───────────┘└╥┘»\n",
       "«c: 1/══════════════╩═══════════════╩═══════════════╩═══════════════╩═»\n",
       "«                   0               0               0               0 »\n",
       "«     ┌───────────┐┌─┐┌───────────┐┌─┐┌───────────┐┌─┐┌───────────┐┌─┐»\n",
       "«  q: ┤ Ry(π/100) ├┤M├┤ Ry(π/100) ├┤M├┤ Ry(π/100) ├┤M├┤ Ry(π/100) ├┤M├»\n",
       "«     └───────────┘└╥┘└───────────┘└╥┘└───────────┘└╥┘└───────────┘└╥┘»\n",
       "«c: 1/══════════════╩═══════════════╩═══════════════╩═══════════════╩═»\n",
       "«                   0               0               0               0 »\n",
       "«     ┌───────────┐┌─┐┌───────────┐┌─┐┌───────────┐┌─┐┌───────────┐┌─┐»\n",
       "«  q: ┤ Ry(π/100) ├┤M├┤ Ry(π/100) ├┤M├┤ Ry(π/100) ├┤M├┤ Ry(π/100) ├┤M├»\n",
       "«     └───────────┘└╥┘└───────────┘└╥┘└───────────┘└╥┘└───────────┘└╥┘»\n",
       "«c: 1/══════════════╩═══════════════╩═══════════════╩═══════════════╩═»\n",
       "«                   0               0               0               0 »\n",
       "«     ┌───────────┐┌─┐┌───────────┐┌─┐┌───────────┐┌─┐┌───────────┐┌─┐»\n",
       "«  q: ┤ Ry(π/100) ├┤M├┤ Ry(π/100) ├┤M├┤ Ry(π/100) ├┤M├┤ Ry(π/100) ├┤M├»\n",
       "«     └───────────┘└╥┘└───────────┘└╥┘└───────────┘└╥┘└───────────┘└╥┘»\n",
       "«c: 1/══════════════╩═══════════════╩═══════════════╩═══════════════╩═»\n",
       "«                   0               0               0               0 »\n",
       "«     ┌───────────┐┌─┐┌───────────┐┌─┐┌───────────┐┌─┐┌───────────┐┌─┐»\n",
       "«  q: ┤ Ry(π/100) ├┤M├┤ Ry(π/100) ├┤M├┤ Ry(π/100) ├┤M├┤ Ry(π/100) ├┤M├»\n",
       "«     └───────────┘└╥┘└───────────┘└╥┘└───────────┘└╥┘└───────────┘└╥┘»\n",
       "«c: 1/══════════════╩═══════════════╩═══════════════╩═══════════════╩═»\n",
       "«                   0               0               0               0 »\n",
       "«     ┌───────────┐┌─┐┌───────────┐┌─┐┌───────────┐┌─┐┌───────────┐┌─┐»\n",
       "«  q: ┤ Ry(π/100) ├┤M├┤ Ry(π/100) ├┤M├┤ Ry(π/100) ├┤M├┤ Ry(π/100) ├┤M├»\n",
       "«     └───────────┘└╥┘└───────────┘└╥┘└───────────┘└╥┘└───────────┘└╥┘»\n",
       "«c: 1/══════════════╩═══════════════╩═══════════════╩═══════════════╩═»\n",
       "«                   0               0               0               0 »\n",
       "«     ┌───────────┐┌─┐┌───────────┐┌─┐┌───────────┐┌─┐┌───────────┐┌─┐»\n",
       "«  q: ┤ Ry(π/100) ├┤M├┤ Ry(π/100) ├┤M├┤ Ry(π/100) ├┤M├┤ Ry(π/100) ├┤M├»\n",
       "«     └───────────┘└╥┘└───────────┘└╥┘└───────────┘└╥┘└───────────┘└╥┘»\n",
       "«c: 1/══════════════╩═══════════════╩═══════════════╩═══════════════╩═»\n",
       "«                   0               0               0               0 »\n",
       "«     ┌───────────┐┌─┐┌───────────┐┌─┐┌───────────┐┌─┐┌───────────┐┌─┐»\n",
       "«  q: ┤ Ry(π/100) ├┤M├┤ Ry(π/100) ├┤M├┤ Ry(π/100) ├┤M├┤ Ry(π/100) ├┤M├»\n",
       "«     └───────────┘└╥┘└───────────┘└╥┘└───────────┘└╥┘└───────────┘└╥┘»\n",
       "«c: 1/══════════════╩═══════════════╩═══════════════╩═══════════════╩═»\n",
       "«                   0               0               0               0 »\n",
       "«     ┌───────────┐┌─┐┌───────────┐┌─┐┌───────────┐┌─┐┌───────────┐┌─┐»\n",
       "«  q: ┤ Ry(π/100) ├┤M├┤ Ry(π/100) ├┤M├┤ Ry(π/100) ├┤M├┤ Ry(π/100) ├┤M├»\n",
       "«     └───────────┘└╥┘└───────────┘└╥┘└───────────┘└╥┘└───────────┘└╥┘»\n",
       "«c: 1/══════════════╩═══════════════╩═══════════════╩═══════════════╩═»\n",
       "«                   0               0               0               0 »\n",
       "«     ┌───────────┐┌─┐┌───────────┐┌─┐┌───────────┐┌─┐┌───────────┐┌─┐»\n",
       "«  q: ┤ Ry(π/100) ├┤M├┤ Ry(π/100) ├┤M├┤ Ry(π/100) ├┤M├┤ Ry(π/100) ├┤M├»\n",
       "«     └───────────┘└╥┘└───────────┘└╥┘└───────────┘└╥┘└───────────┘└╥┘»\n",
       "«c: 1/══════════════╩═══════════════╩═══════════════╩═══════════════╩═»\n",
       "«                   0               0               0               0 »\n",
       "«     ┌───────────┐┌─┐┌───────────┐┌─┐┌───────────┐┌─┐┌───────────┐┌─┐»\n",
       "«  q: ┤ Ry(π/100) ├┤M├┤ Ry(π/100) ├┤M├┤ Ry(π/100) ├┤M├┤ Ry(π/100) ├┤M├»\n",
       "«     └───────────┘└╥┘└───────────┘└╥┘└───────────┘└╥┘└───────────┘└╥┘»\n",
       "«c: 1/══════════════╩═══════════════╩═══════════════╩═══════════════╩═»\n",
       "«                   0               0               0               0 »\n",
       "«     ┌───────────┐┌─┐┌───────────┐┌─┐┌───────────┐┌─┐┌───────────┐┌─┐»\n",
       "«  q: ┤ Ry(π/100) ├┤M├┤ Ry(π/100) ├┤M├┤ Ry(π/100) ├┤M├┤ Ry(π/100) ├┤M├»\n",
       "«     └───────────┘└╥┘└───────────┘└╥┘└───────────┘└╥┘└───────────┘└╥┘»\n",
       "«c: 1/══════════════╩═══════════════╩═══════════════╩═══════════════╩═»\n",
       "«                   0               0               0               0 »\n",
       "«     ┌───────────┐┌─┐┌───────────┐┌─┐┌───────────┐┌─┐┌───────────┐┌─┐»\n",
       "«  q: ┤ Ry(π/100) ├┤M├┤ Ry(π/100) ├┤M├┤ Ry(π/100) ├┤M├┤ Ry(π/100) ├┤M├»\n",
       "«     └───────────┘└╥┘└───────────┘└╥┘└───────────┘└╥┘└───────────┘└╥┘»\n",
       "«c: 1/══════════════╩═══════════════╩═══════════════╩═══════════════╩═»\n",
       "«                   0               0               0               0 »\n",
       "«     ┌───────────┐┌─┐┌───────────┐┌─┐┌───────────┐┌─┐┌───────────┐┌─┐»\n",
       "«  q: ┤ Ry(π/100) ├┤M├┤ Ry(π/100) ├┤M├┤ Ry(π/100) ├┤M├┤ Ry(π/100) ├┤M├»\n",
       "«     └───────────┘└╥┘└───────────┘└╥┘└───────────┘└╥┘└───────────┘└╥┘»\n",
       "«c: 1/══════════════╩═══════════════╩═══════════════╩═══════════════╩═»\n",
       "«                   0               0               0               0 »\n",
       "«     ┌───────────┐┌─┐┌───────────┐┌─┐┌───────────┐┌─┐┌───────────┐┌─┐»\n",
       "«  q: ┤ Ry(π/100) ├┤M├┤ Ry(π/100) ├┤M├┤ Ry(π/100) ├┤M├┤ Ry(π/100) ├┤M├»\n",
       "«     └───────────┘└╥┘└───────────┘└╥┘└───────────┘└╥┘└───────────┘└╥┘»\n",
       "«c: 1/══════════════╩═══════════════╩═══════════════╩═══════════════╩═»\n",
       "«                   0               0               0               0 »\n",
       "«     ┌───────────┐┌─┐┌───────────┐┌─┐┌───────────┐┌─┐┌───────────┐┌─┐»\n",
       "«  q: ┤ Ry(π/100) ├┤M├┤ Ry(π/100) ├┤M├┤ Ry(π/100) ├┤M├┤ Ry(π/100) ├┤M├»\n",
       "«     └───────────┘└╥┘└───────────┘└╥┘└───────────┘└╥┘└───────────┘└╥┘»\n",
       "«c: 1/══════════════╩═══════════════╩═══════════════╩═══════════════╩═»\n",
       "«                   0               0               0               0 »\n",
       "«     ┌───────────┐┌─┐┌───────────┐┌─┐┌───────────┐┌─┐┌───────────┐┌─┐»\n",
       "«  q: ┤ Ry(π/100) ├┤M├┤ Ry(π/100) ├┤M├┤ Ry(π/100) ├┤M├┤ Ry(π/100) ├┤M├»\n",
       "«     └───────────┘└╥┘└───────────┘└╥┘└───────────┘└╥┘└───────────┘└╥┘»\n",
       "«c: 1/══════════════╩═══════════════╩═══════════════╩═══════════════╩═»\n",
       "«                   0               0               0               0 »\n",
       "«     ┌───────────┐┌─┐┌───────────┐┌─┐┌───────────┐┌─┐┌───────────┐┌─┐»\n",
       "«  q: ┤ Ry(π/100) ├┤M├┤ Ry(π/100) ├┤M├┤ Ry(π/100) ├┤M├┤ Ry(π/100) ├┤M├»\n",
       "«     └───────────┘└╥┘└───────────┘└╥┘└───────────┘└╥┘└───────────┘└╥┘»\n",
       "«c: 1/══════════════╩═══════════════╩═══════════════╩═══════════════╩═»\n",
       "«                   0               0               0               0 »\n",
       "«     ┌───────────┐┌─┐┌───────────┐┌─┐┌───────────┐┌─┐┌───────────┐┌─┐»\n",
       "«  q: ┤ Ry(π/100) ├┤M├┤ Ry(π/100) ├┤M├┤ Ry(π/100) ├┤M├┤ Ry(π/100) ├┤M├»\n",
       "«     └───────────┘└╥┘└───────────┘└╥┘└───────────┘└╥┘└───────────┘└╥┘»\n",
       "«c: 1/══════════════╩═══════════════╩═══════════════╩═══════════════╩═»\n",
       "«                   0               0               0               0 »\n",
       "«     ┌───────────┐┌─┐┌───────────┐┌─┐┌───────────┐┌─┐┌───────────┐┌─┐»\n",
       "«  q: ┤ Ry(π/100) ├┤M├┤ Ry(π/100) ├┤M├┤ Ry(π/100) ├┤M├┤ Ry(π/100) ├┤M├»\n",
       "«     └───────────┘└╥┘└───────────┘└╥┘└───────────┘└╥┘└───────────┘└╥┘»\n",
       "«c: 1/══════════════╩═══════════════╩═══════════════╩═══════════════╩═»\n",
       "«                   0               0               0               0 »\n",
       "«     ┌───────────┐┌─┐┌───────────┐┌─┐┌───────────┐┌─┐┌───────────┐┌─┐\n",
       "«  q: ┤ Ry(π/100) ├┤M├┤ Ry(π/100) ├┤M├┤ Ry(π/100) ├┤M├┤ Ry(π/100) ├┤M├\n",
       "«     └───────────┘└╥┘└───────────┘└╥┘└───────────┘└╥┘└───────────┘└╥┘\n",
       "«c: 1/══════════════╩═══════════════╩═══════════════╩═══════════════╩═\n",
       "«                   0               0               0               0 "
      ]
     },
     "execution_count": 5,
     "metadata": {},
     "output_type": "execute_result"
    }
   ],
   "source": [
    "#Draw the circuit\n",
    "circ.draw()"
   ]
  },
  {
   "cell_type": "code",
   "execution_count": 6,
   "id": "5efd2b7a",
   "metadata": {
    "execution": {
     "iopub.execute_input": "2024-02-06T18:56:08.435079Z",
     "iopub.status.busy": "2024-02-06T18:56:08.434344Z",
     "iopub.status.idle": "2024-02-06T18:56:08.943666Z",
     "shell.execute_reply": "2024-02-06T18:56:08.942267Z"
    },
    "papermill": {
     "duration": 0.531828,
     "end_time": "2024-02-06T18:56:08.947565",
     "exception": false,
     "start_time": "2024-02-06T18:56:08.415737",
     "status": "completed"
    },
    "tags": []
   },
   "outputs": [
    {
     "name": "stderr",
     "output_type": "stream",
     "text": [
      "/tmp/ipykernel_18/2321251475.py:4: DeprecationWarning: The 'qiskit.Aer' entry point is deprecated and will be removed in Qiskit 1.0. You should use 'qiskit_aer.Aer' directly instead.\n",
      "  simulator = Aer.get_backend('qasm_simulator')\n",
      "/tmp/ipykernel_18/2321251475.py:7: DeprecationWarning: The function ``qiskit.execute_function.execute()`` is deprecated as of qiskit 0.46.0. It will be removed in the Qiskit 1.0 release. This function combines ``transpile`` and ``backend.run``, which is covered by ``Sampler`` :mod:`~qiskit.primitives`. Alternatively, you can also run :func:`.transpile` followed by ``backend.run()``.\n",
      "  result = execute(circ, simulator, shots=1000).result()\n"
     ]
    },
    {
     "data": {
      "image/png": "[encoded data removed]",
      "text/plain": [
       "<Figure size 700x500 with 1 Axes>"
      ]
     },
     "execution_count": 6,
     "metadata": {},
     "output_type": "execute_result"
    }
   ],
   "source": [
    "# Select the QasmSimulator from the Aer provider\n",
    "# If we wanted to use IBM Cloud we'd need to set up a service with our own token here\n",
    "# https://docs.quantum.ibm.com/start/setup-channel\n",
    "simulator = Aer.get_backend('qasm_simulator')\n",
    "\n",
    "# Execute and get counts\n",
    "result = execute(circ, simulator, shots=1000).result()\n",
    "counts = result.get_counts(circ)\n",
    "plot_histogram(counts, title='result')"
   ]
  },
  {
   "cell_type": "code",
   "execution_count": 7,
   "id": "27499659",
   "metadata": {
    "execution": {
     "iopub.execute_input": "2024-02-06T18:56:08.986160Z",
     "iopub.status.busy": "2024-02-06T18:56:08.985316Z",
     "iopub.status.idle": "2024-02-06T18:56:08.996118Z",
     "shell.execute_reply": "2024-02-06T18:56:08.994883Z"
    },
    "papermill": {
     "duration": 0.031592,
     "end_time": "2024-02-06T18:56:08.998544",
     "exception": false,
     "start_time": "2024-02-06T18:56:08.966952",
     "status": "completed"
    },
    "tags": []
   },
   "outputs": [
    {
     "data": {
      "text/plain": [
       "<qiskit.circuit.instructionset.InstructionSet at 0x7c65015f8040>"
      ]
     },
     "execution_count": 7,
     "metadata": {},
     "output_type": "execute_result"
    }
   ],
   "source": [
    "# Construct quantum circuit with one measurement at the end, but the same number of the same rotations\n",
    "circ = QuantumCircuit(1,1)\n",
    "for x in range(100):\n",
    "    circ.ry(np.pi/100, 0)\n",
    "circ.measure(0,0)"
   ]
  },
  {
   "cell_type": "code",
   "execution_count": 8,
   "id": "41d88dda",
   "metadata": {
    "execution": {
     "iopub.execute_input": "2024-02-06T18:56:09.035692Z",
     "iopub.status.busy": "2024-02-06T18:56:09.035338Z",
     "iopub.status.idle": "2024-02-06T18:56:09.072077Z",
     "shell.execute_reply": "2024-02-06T18:56:09.071003Z"
    },
    "papermill": {
     "duration": 0.057902,
     "end_time": "2024-02-06T18:56:09.074211",
     "exception": false,
     "start_time": "2024-02-06T18:56:09.016309",
     "status": "completed"
    },
    "tags": []
   },
   "outputs": [
    {
     "data": {
      "text/html": [
       "<pre style=\"word-wrap: normal;white-space: pre;background: #fff0;line-height: 1.1;font-family: &quot;Courier New&quot;,Courier,monospace\">     ┌───────────┐┌───────────┐┌───────────┐┌───────────┐┌───────────┐»\n",
       "  q: ┤ Ry(π/100) ├┤ Ry(π/100) ├┤ Ry(π/100) ├┤ Ry(π/100) ├┤ Ry(π/100) ├»\n",
       "     └───────────┘└───────────┘└───────────┘└───────────┘└───────────┘»\n",
       "c: 1/═════════════════════════════════════════════════════════════════»\n",
       "                                                                      »\n",
       "«     ┌───────────┐┌───────────┐┌───────────┐┌───────────┐┌───────────┐»\n",
       "«  q: ┤ Ry(π/100) ├┤ Ry(π/100) ├┤ Ry(π/100) ├┤ Ry(π/100) ├┤ Ry(π/100) ├»\n",
       "«     └───────────┘└───────────┘└───────────┘└───────────┘└───────────┘»\n",
       "«c: 1/═════════════════════════════════════════════════════════════════»\n",
       "«                                                                      »\n",
       "«     ┌───────────┐┌───────────┐┌───────────┐┌───────────┐┌───────────┐»\n",
       "«  q: ┤ Ry(π/100) ├┤ Ry(π/100) ├┤ Ry(π/100) ├┤ Ry(π/100) ├┤ Ry(π/100) ├»\n",
       "«     └───────────┘└───────────┘└───────────┘└───────────┘└───────────┘»\n",
       "«c: 1/═════════════════════════════════════════════════════════════════»\n",
       "«                                                                      »\n",
       "«     ┌───────────┐┌───────────┐┌───────────┐┌───────────┐┌───────────┐»\n",
       "«  q: ┤ Ry(π/100) ├┤ Ry(π/100) ├┤ Ry(π/100) ├┤ Ry(π/100) ├┤ Ry(π/100) ├»\n",
       "«     └───────────┘└───────────┘└───────────┘└───────────┘└───────────┘»\n",
       "«c: 1/═════════════════════════════════════════════════════════════════»\n",
       "«                                                                      »\n",
       "«     ┌───────────┐┌───────────┐┌───────────┐┌───────────┐┌───────────┐»\n",
       "«  q: ┤ Ry(π/100) ├┤ Ry(π/100) ├┤ Ry(π/100) ├┤ Ry(π/100) ├┤ Ry(π/100) ├»\n",
       "«     └───────────┘└───────────┘└───────────┘└───────────┘└───────────┘»\n",
       "«c: 1/═════════════════════════════════════════════════════════════════»\n",
       "«                                                                      »\n",
       "«     ┌───────────┐┌───────────┐┌───────────┐┌───────────┐┌───────────┐»\n",
       "«  q: ┤ Ry(π/100) ├┤ Ry(π/100) ├┤ Ry(π/100) ├┤ Ry(π/100) ├┤ Ry(π/100) ├»\n",
       "«     └───────────┘└───────────┘└───────────┘└───────────┘└───────────┘»\n",
       "«c: 1/═════════════════════════════════════════════════════════════════»\n",
       "«                                                                      »\n",
       "«     ┌───────────┐┌───────────┐┌───────────┐┌───────────┐┌───────────┐»\n",
       "«  q: ┤ Ry(π/100) ├┤ Ry(π/100) ├┤ Ry(π/100) ├┤ Ry(π/100) ├┤ Ry(π/100) ├»\n",
       "«     └───────────┘└───────────┘└───────────┘└───────────┘└───────────┘»\n",
       "«c: 1/═════════════════════════════════════════════════════════════════»\n",
       "«                                                                      »\n",
       "«     ┌───────────┐┌───────────┐┌───────────┐┌───────────┐┌───────────┐»\n",
       "«  q: ┤ Ry(π/100) ├┤ Ry(π/100) ├┤ Ry(π/100) ├┤ Ry(π/100) ├┤ Ry(π/100) ├»\n",
       "«     └───────────┘└───────────┘└───────────┘└───────────┘└───────────┘»\n",
       "«c: 1/═════════════════════════════════════════════════════════════════»\n",
       "«                                                                      »\n",
       "«     ┌───────────┐┌───────────┐┌───────────┐┌───────────┐┌───────────┐»\n",
       "«  q: ┤ Ry(π/100) ├┤ Ry(π/100) ├┤ Ry(π/100) ├┤ Ry(π/100) ├┤ Ry(π/100) ├»\n",
       "«     └───────────┘└───────────┘└───────────┘└───────────┘└───────────┘»\n",
       "«c: 1/═════════════════════════════════════════════════════════════════»\n",
       "«                                                                      »\n",
       "«     ┌───────────┐┌───────────┐┌───────────┐┌───────────┐┌───────────┐»\n",
       "«  q: ┤ Ry(π/100) ├┤ Ry(π/100) ├┤ Ry(π/100) ├┤ Ry(π/100) ├┤ Ry(π/100) ├»\n",
       "«     └───────────┘└───────────┘└───────────┘└───────────┘└───────────┘»\n",
       "«c: 1/═════════════════════════════════════════════════════════════════»\n",
       "«                                                                      »\n",
       "«     ┌───────────┐┌───────────┐┌───────────┐┌───────────┐┌───────────┐»\n",
       "«  q: ┤ Ry(π/100) ├┤ Ry(π/100) ├┤ Ry(π/100) ├┤ Ry(π/100) ├┤ Ry(π/100) ├»\n",
       "«     └───────────┘└───────────┘└───────────┘└───────────┘└───────────┘»\n",
       "«c: 1/═════════════════════════════════════════════════════════════════»\n",
       "«                                                                      »\n",
       "«     ┌───────────┐┌───────────┐┌───────────┐┌───────────┐┌───────────┐»\n",
       "«  q: ┤ Ry(π/100) ├┤ Ry(π/100) ├┤ Ry(π/100) ├┤ Ry(π/100) ├┤ Ry(π/100) ├»\n",
       "«     └───────────┘└───────────┘└───────────┘└───────────┘└───────────┘»\n",
       "«c: 1/═════════════════════════════════════════════════════════════════»\n",
       "«                                                                      »\n",
       "«     ┌───────────┐┌───────────┐┌───────────┐┌───────────┐┌───────────┐»\n",
       "«  q: ┤ Ry(π/100) ├┤ Ry(π/100) ├┤ Ry(π/100) ├┤ Ry(π/100) ├┤ Ry(π/100) ├»\n",
       "«     └───────────┘└───────────┘└───────────┘└───────────┘└───────────┘»\n",
       "«c: 1/═════════════════════════════════════════════════════════════════»\n",
       "«                                                                      »\n",
       "«     ┌───────────┐┌───────────┐┌───────────┐┌───────────┐┌───────────┐»\n",
       "«  q: ┤ Ry(π/100) ├┤ Ry(π/100) ├┤ Ry(π/100) ├┤ Ry(π/100) ├┤ Ry(π/100) ├»\n",
       "«     └───────────┘└───────────┘└───────────┘└───────────┘└───────────┘»\n",
       "«c: 1/═════════════════════════════════════════════════════════════════»\n",
       "«                                                                      »\n",
       "«     ┌───────────┐┌───────────┐┌───────────┐┌───────────┐┌───────────┐»\n",
       "«  q: ┤ Ry(π/100) ├┤ Ry(π/100) ├┤ Ry(π/100) ├┤ Ry(π/100) ├┤ Ry(π/100) ├»\n",
       "«     └───────────┘└───────────┘└───────────┘└───────────┘└───────────┘»\n",
       "«c: 1/═════════════════════════════════════════════════════════════════»\n",
       "«                                                                      »\n",
       "«     ┌───────────┐┌───────────┐┌───────────┐┌───────────┐┌───────────┐»\n",
       "«  q: ┤ Ry(π/100) ├┤ Ry(π/100) ├┤ Ry(π/100) ├┤ Ry(π/100) ├┤ Ry(π/100) ├»\n",
       "«     └───────────┘└───────────┘└───────────┘└───────────┘└───────────┘»\n",
       "«c: 1/═════════════════════════════════════════════════════════════════»\n",
       "«                                                                      »\n",
       "«     ┌───────────┐┌───────────┐┌───────────┐┌───────────┐┌───────────┐»\n",
       "«  q: ┤ Ry(π/100) ├┤ Ry(π/100) ├┤ Ry(π/100) ├┤ Ry(π/100) ├┤ Ry(π/100) ├»\n",
       "«     └───────────┘└───────────┘└───────────┘└───────────┘└───────────┘»\n",
       "«c: 1/═════════════════════════════════════════════════════════════════»\n",
       "«                                                                      »\n",
       "«     ┌───────────┐┌───────────┐┌───────────┐┌───────────┐┌───────────┐»\n",
       "«  q: ┤ Ry(π/100) ├┤ Ry(π/100) ├┤ Ry(π/100) ├┤ Ry(π/100) ├┤ Ry(π/100) ├»\n",
       "«     └───────────┘└───────────┘└───────────┘└───────────┘└───────────┘»\n",
       "«c: 1/═════════════════════════════════════════════════════════════════»\n",
       "«                                                                      »\n",
       "«     ┌───────────┐┌───────────┐┌───────────┐┌───────────┐┌───────────┐»\n",
       "«  q: ┤ Ry(π/100) ├┤ Ry(π/100) ├┤ Ry(π/100) ├┤ Ry(π/100) ├┤ Ry(π/100) ├»\n",
       "«     └───────────┘└───────────┘└───────────┘└───────────┘└───────────┘»\n",
       "«c: 1/═════════════════════════════════════════════════════════════════»\n",
       "«                                                                      »\n",
       "«     ┌───────────┐┌───────────┐┌───────────┐┌───────────┐┌───────────┐┌─┐\n",
       "«  q: ┤ Ry(π/100) ├┤ Ry(π/100) ├┤ Ry(π/100) ├┤ Ry(π/100) ├┤ Ry(π/100) ├┤M├\n",
       "«     └───────────┘└───────────┘└───────────┘└───────────┘└───────────┘└╥┘\n",
       "«c: 1/══════════════════════════════════════════════════════════════════╩═\n",
       "«                                                                       0 </pre>"
      ],
      "text/plain": [
       "     ┌───────────┐┌───────────┐┌───────────┐┌───────────┐┌───────────┐»\n",
       "  q: ┤ Ry(π/100) ├┤ Ry(π/100) ├┤ Ry(π/100) ├┤ Ry(π/100) ├┤ Ry(π/100) ├»\n",
       "     └───────────┘└───────────┘└───────────┘└───────────┘└───────────┘»\n",
       "c: 1/═════════════════════════════════════════════════════════════════»\n",
       "                                                                      »\n",
       "«     ┌───────────┐┌───────────┐┌───────────┐┌───────────┐┌───────────┐»\n",
       "«  q: ┤ Ry(π/100) ├┤ Ry(π/100) ├┤ Ry(π/100) ├┤ Ry(π/100) ├┤ Ry(π/100) ├»\n",
       "«     └───────────┘└───────────┘└───────────┘└───────────┘└───────────┘»\n",
       "«c: 1/═════════════════════════════════════════════════════════════════»\n",
       "«                                                                      »\n",
       "«     ┌───────────┐┌───────────┐┌───────────┐┌───────────┐┌───────────┐»\n",
       "«  q: ┤ Ry(π/100) ├┤ Ry(π/100) ├┤ Ry(π/100) ├┤ Ry(π/100) ├┤ Ry(π/100) ├»\n",
       "«     └───────────┘└───────────┘└───────────┘└───────────┘└───────────┘»\n",
       "«c: 1/═════════════════════════════════════════════════════════════════»\n",
       "«                                                                      »\n",
       "«     ┌───────────┐┌───────────┐┌───────────┐┌───────────┐┌───────────┐»\n",
       "«  q: ┤ Ry(π/100) ├┤ Ry(π/100) ├┤ Ry(π/100) ├┤ Ry(π/100) ├┤ Ry(π/100) ├»\n",
       "«     └───────────┘└───────────┘└───────────┘└───────────┘└───────────┘»\n",
       "«c: 1/═════════════════════════════════════════════════════════════════»\n",
       "«                                                                      »\n",
       "«     ┌───────────┐┌───────────┐┌───────────┐┌───────────┐┌───────────┐»\n",
       "«  q: ┤ Ry(π/100) ├┤ Ry(π/100) ├┤ Ry(π/100) ├┤ Ry(π/100) ├┤ Ry(π/100) ├»\n",
       "«     └───────────┘└───────────┘└───────────┘└───────────┘└───────────┘»\n",
       "«c: 1/═════════════════════════════════════════════════════════════════»\n",
       "«                                                                      »\n",
       "«     ┌───────────┐┌───────────┐┌───────────┐┌───────────┐┌───────────┐»\n",
       "«  q: ┤ Ry(π/100) ├┤ Ry(π/100) ├┤ Ry(π/100) ├┤ Ry(π/100) ├┤ Ry(π/100) ├»\n",
       "«     └───────────┘└───────────┘└───────────┘└───────────┘└───────────┘»\n",
       "«c: 1/═════════════════════════════════════════════════════════════════»\n",
       "«                                                                      »\n",
       "«     ┌───────────┐┌───────────┐┌───────────┐┌───────────┐┌───────────┐»\n",
       "«  q: ┤ Ry(π/100) ├┤ Ry(π/100) ├┤ Ry(π/100) ├┤ Ry(π/100) ├┤ Ry(π/100) ├»\n",
       "«     └───────────┘└───────────┘└───────────┘└───────────┘└───────────┘»\n",
       "«c: 1/═════════════════════════════════════════════════════════════════»\n",
       "«                                                                      »\n",
       "«     ┌───────────┐┌───────────┐┌───────────┐┌───────────┐┌───────────┐»\n",
       "«  q: ┤ Ry(π/100) ├┤ Ry(π/100) ├┤ Ry(π/100) ├┤ Ry(π/100) ├┤ Ry(π/100) ├»\n",
       "«     └───────────┘└───────────┘└───────────┘└───────────┘└───────────┘»\n",
       "«c: 1/═════════════════════════════════════════════════════════════════»\n",
       "«                                                                      »\n",
       "«     ┌───────────┐┌───────────┐┌───────────┐┌───────────┐┌───────────┐»\n",
       "«  q: ┤ Ry(π/100) ├┤ Ry(π/100) ├┤ Ry(π/100) ├┤ Ry(π/100) ├┤ Ry(π/100) ├»\n",
       "«     └───────────┘└───────────┘└───────────┘└───────────┘└───────────┘»\n",
       "«c: 1/═════════════════════════════════════════════════════════════════»\n",
       "«                                                                      »\n",
       "«     ┌───────────┐┌───────────┐┌───────────┐┌───────────┐┌───────────┐»\n",
       "«  q: ┤ Ry(π/100) ├┤ Ry(π/100) ├┤ Ry(π/100) ├┤ Ry(π/100) ├┤ Ry(π/100) ├»\n",
       "«     └───────────┘└───────────┘└───────────┘└───────────┘└───────────┘»\n",
       "«c: 1/═════════════════════════════════════════════════════════════════»\n",
       "«                                                                      »\n",
       "«     ┌───────────┐┌───────────┐┌───────────┐┌───────────┐┌───────────┐»\n",
       "«  q: ┤ Ry(π/100) ├┤ Ry(π/100) ├┤ Ry(π/100) ├┤ Ry(π/100) ├┤ Ry(π/100) ├»\n",
       "«     └───────────┘└───────────┘└───────────┘└───────────┘└───────────┘»\n",
       "«c: 1/═════════════════════════════════════════════════════════════════»\n",
       "«                                                                      »\n",
       "«     ┌───────────┐┌───────────┐┌───────────┐┌───────────┐┌───────────┐»\n",
       "«  q: ┤ Ry(π/100) ├┤ Ry(π/100) ├┤ Ry(π/100) ├┤ Ry(π/100) ├┤ Ry(π/100) ├»\n",
       "«     └───────────┘└───────────┘└───────────┘└───────────┘└───────────┘»\n",
       "«c: 1/═════════════════════════════════════════════════════════════════»\n",
       "«                                                                      »\n",
       "«     ┌───────────┐┌───────────┐┌───────────┐┌───────────┐┌───────────┐»\n",
       "«  q: ┤ Ry(π/100) ├┤ Ry(π/100) ├┤ Ry(π/100) ├┤ Ry(π/100) ├┤ Ry(π/100) ├»\n",
       "«     └───────────┘└───────────┘└───────────┘└───────────┘└───────────┘»\n",
       "«c: 1/═════════════════════════════════════════════════════════════════»\n",
       "«                                                                      »\n",
       "«     ┌───────────┐┌───────────┐┌───────────┐┌───────────┐┌───────────┐»\n",
       "«  q: ┤ Ry(π/100) ├┤ Ry(π/100) ├┤ Ry(π/100) ├┤ Ry(π/100) ├┤ Ry(π/100) ├»\n",
       "«     └───────────┘└───────────┘└───────────┘└───────────┘└───────────┘»\n",
       "«c: 1/═════════════════════════════════════════════════════════════════»\n",
       "«                                                                      »\n",
       "«     ┌───────────┐┌───────────┐┌───────────┐┌───────────┐┌───────────┐»\n",
       "«  q: ┤ Ry(π/100) ├┤ Ry(π/100) ├┤ Ry(π/100) ├┤ Ry(π/100) ├┤ Ry(π/100) ├»\n",
       "«     └───────────┘└───────────┘└───────────┘└───────────┘└───────────┘»\n",
       "«c: 1/═════════════════════════════════════════════════════════════════»\n",
       "«                                                                      »\n",
       "«     ┌───────────┐┌───────────┐┌───────────┐┌───────────┐┌───────────┐»\n",
       "«  q: ┤ Ry(π/100) ├┤ Ry(π/100) ├┤ Ry(π/100) ├┤ Ry(π/100) ├┤ Ry(π/100) ├»\n",
       "«     └───────────┘└───────────┘└───────────┘└───────────┘└───────────┘»\n",
       "«c: 1/═════════════════════════════════════════════════════════════════»\n",
       "«                                                                      »\n",
       "«     ┌───────────┐┌───────────┐┌───────────┐┌───────────┐┌───────────┐»\n",
       "«  q: ┤ Ry(π/100) ├┤ Ry(π/100) ├┤ Ry(π/100) ├┤ Ry(π/100) ├┤ Ry(π/100) ├»\n",
       "«     └───────────┘└───────────┘└───────────┘└───────────┘└───────────┘»\n",
       "«c: 1/═════════════════════════════════════════════════════════════════»\n",
       "«                                                                      »\n",
       "«     ┌───────────┐┌───────────┐┌───────────┐┌───────────┐┌───────────┐»\n",
       "«  q: ┤ Ry(π/100) ├┤ Ry(π/100) ├┤ Ry(π/100) ├┤ Ry(π/100) ├┤ Ry(π/100) ├»\n",
       "«     └───────────┘└───────────┘└───────────┘└───────────┘└───────────┘»\n",
       "«c: 1/═════════════════════════════════════════════════════════════════»\n",
       "«                                                                      »\n",
       "«     ┌───────────┐┌───────────┐┌───────────┐┌───────────┐┌───────────┐»\n",
       "«  q: ┤ Ry(π/100) ├┤ Ry(π/100) ├┤ Ry(π/100) ├┤ Ry(π/100) ├┤ Ry(π/100) ├»\n",
       "«     └───────────┘└───────────┘└───────────┘└───────────┘└───────────┘»\n",
       "«c: 1/═════════════════════════════════════════════════════════════════»\n",
       "«                                                                      »\n",
       "«     ┌───────────┐┌───────────┐┌───────────┐┌───────────┐┌───────────┐┌─┐\n",
       "«  q: ┤ Ry(π/100) ├┤ Ry(π/100) ├┤ Ry(π/100) ├┤ Ry(π/100) ├┤ Ry(π/100) ├┤M├\n",
       "«     └───────────┘└───────────┘└───────────┘└───────────┘└───────────┘└╥┘\n",
       "«c: 1/══════════════════════════════════════════════════════════════════╩═\n",
       "«                                                                       0 "
      ]
     },
     "execution_count": 8,
     "metadata": {},
     "output_type": "execute_result"
    }
   ],
   "source": [
    "#Draw the circuit\n",
    "circ.draw()"
   ]
  },
  {
   "cell_type": "code",
   "execution_count": 9,
   "id": "a9136962",
   "metadata": {
    "execution": {
     "iopub.execute_input": "2024-02-06T18:56:09.111613Z",
     "iopub.status.busy": "2024-02-06T18:56:09.111232Z",
     "iopub.status.idle": "2024-02-06T18:56:09.298060Z",
     "shell.execute_reply": "2024-02-06T18:56:09.296547Z"
    },
    "papermill": {
     "duration": 0.209227,
     "end_time": "2024-02-06T18:56:09.300914",
     "exception": false,
     "start_time": "2024-02-06T18:56:09.091687",
     "status": "completed"
    },
    "tags": []
   },
   "outputs": [
    {
     "name": "stderr",
     "output_type": "stream",
     "text": [
      "/tmp/ipykernel_18/1967309615.py:2: DeprecationWarning: The function ``qiskit.execute_function.execute()`` is deprecated as of qiskit 0.46.0. It will be removed in the Qiskit 1.0 release. This function combines ``transpile`` and ``backend.run``, which is covered by ``Sampler`` :mod:`~qiskit.primitives`. Alternatively, you can also run :func:`.transpile` followed by ``backend.run()``.\n",
      "  result = execute(circ, simulator, shots=1000).result()\n"
     ]
    },
    {
     "data": {
      "image/png": "[encoded data removed]",
      "text/plain": [
       "<Figure size 700x500 with 1 Axes>"
      ]
     },
     "execution_count": 9,
     "metadata": {},
     "output_type": "execute_result"
    }
   ],
   "source": [
    "#Measure\n",
    "result = execute(circ, simulator, shots=1000).result()\n",
    "counts = result.get_counts(circ)\n",
    "plot_histogram(counts, title='result')"
   ]
  },
  {
   "cell_type": "markdown",
   "id": "cb65a5b5",
   "metadata": {
    "papermill": {
     "duration": 0.018642,
     "end_time": "2024-02-06T18:56:09.338544",
     "exception": false,
     "start_time": "2024-02-06T18:56:09.319902",
     "status": "completed"
    },
    "tags": []
   },
   "source": [
    "We can magnify the effect by simulating more frequent observations (more but proportionally smaller rotations)"
   ]
  },
  {
   "cell_type": "code",
   "execution_count": 10,
   "id": "be0f220c",
   "metadata": {
    "execution": {
     "iopub.execute_input": "2024-02-06T18:56:09.378911Z",
     "iopub.status.busy": "2024-02-06T18:56:09.378128Z",
     "iopub.status.idle": "2024-02-06T18:56:10.291773Z",
     "shell.execute_reply": "2024-02-06T18:56:10.290466Z"
    },
    "papermill": {
     "duration": 0.936807,
     "end_time": "2024-02-06T18:56:10.294336",
     "exception": false,
     "start_time": "2024-02-06T18:56:09.357529",
     "status": "completed"
    },
    "tags": []
   },
   "outputs": [
    {
     "name": "stderr",
     "output_type": "stream",
     "text": [
      "/tmp/ipykernel_18/738742719.py:6: DeprecationWarning: The function ``qiskit.execute_function.execute()`` is deprecated as of qiskit 0.46.0. It will be removed in the Qiskit 1.0 release. This function combines ``transpile`` and ``backend.run``, which is covered by ``Sampler`` :mod:`~qiskit.primitives`. Alternatively, you can also run :func:`.transpile` followed by ``backend.run()``.\n",
      "  result = execute(circ, simulator, shots=1000).result()\n"
     ]
    },
    {
     "data": {
      "image/png": "[encoded data removed]",
      "text/plain": [
       "<Figure size 700x500 with 1 Axes>"
      ]
     },
     "execution_count": 10,
     "metadata": {},
     "output_type": "execute_result"
    }
   ],
   "source": [
    "# Pi/1000 rotations\n",
    "circ = QuantumCircuit(1,1)\n",
    "for x in range(1000):\n",
    "    circ.ry(np.pi/1000, 0)\n",
    "    circ.measure(0,0)\n",
    "result = execute(circ, simulator, shots=1000).result()\n",
    "counts = result.get_counts(circ)\n",
    "plot_histogram(counts, title='result')"
   ]
  },
  {
   "cell_type": "markdown",
   "id": "48877564",
   "metadata": {
    "papermill": {
     "duration": 0.018996,
     "end_time": "2024-02-06T18:56:10.332785",
     "exception": false,
     "start_time": "2024-02-06T18:56:10.313789",
     "status": "completed"
    },
    "tags": []
   },
   "source": [
    "With 100 measurements we had roughly 2% rate of measurements resulting with 1 at the end\n",
    "\n",
    "With 1000 measurements we had 2 out of 1000 --> ~0.2%"
   ]
  }
 ],
 "metadata": {
  "kaggle": {
   "accelerator": "none",
   "dataSources": [],
   "dockerImageVersionId": 30635,
   "isGpuEnabled": false,
   "isInternetEnabled": true,
   "language": "python",
   "sourceType": "notebook"
  },
  "kernelspec": {
   "display_name": "Python 3",
   "language": "python",
   "name": "python3"
  },
  "language_info": {
   "codemirror_mode": {
    "name": "ipython",
    "version": 3
   },
   "file_extension": ".py",
   "mimetype": "text/x-python",
   "name": "python",
   "nbconvert_exporter": "python",
   "pygments_lexer": "ipython3",
   "version": "3.10.12"
  },
  "papermill": {
   "default_parameters": {},
   "duration": 266.095435,
   "end_time": "2024-02-06T18:56:10.873171",
   "environment_variables": {},
   "exception": null,
   "input_path": "__notebook__.ipynb",
   "output_path": "__notebook__.ipynb",
   "parameters": {},
   "start_time": "2024-02-06T18:51:44.777736",
   "version": "2.4.0"
  }
 },
 "nbformat": 4,
 "nbformat_minor": 5
}
